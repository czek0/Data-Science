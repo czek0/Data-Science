{
  "nbformat": 4,
  "nbformat_minor": 0,
  "metadata": {
    "colab": {
      "provenance": [],
      "authorship_tag": "ABX9TyOS6TPqi120GeIBZe6cfj6V",
      "include_colab_link": true
    },
    "kernelspec": {
      "name": "python3",
      "display_name": "Python 3"
    },
    "language_info": {
      "name": "python"
    }
  },
  "cells": [
    {
      "cell_type": "markdown",
      "metadata": {
        "id": "view-in-github",
        "colab_type": "text"
      },
      "source": [
        "<a href=\"https://colab.research.google.com/github/czek0/Data-Science-Portfolio/blob/main/Fuel_Efficiency.ipynb\" target=\"_parent\"><img src=\"https://colab.research.google.com/assets/colab-badge.svg\" alt=\"Open In Colab\"/></a>"
      ]
    },
    {
      "cell_type": "markdown",
      "source": [
        "# Driving Visual Anaylses with Automobile Data\n",
        "This dataset, available at http://www.fueleconomy. gov/feg/epadata/vehicles.csv.zip, contains fuel efficiency performance metrics over time for all makes and models of automobiles in the United States of America. This dataset also contains numerous other features and attributes of the automobile models other than fuel economy, providing an opportunity to summarize and group the data so that we can identify interesting trends and relationships."
      ],
      "metadata": {
        "id": "taBip8S4d1j8"
      }
    },
    {
      "cell_type": "code",
      "source": [
        "import numpy as np\n"
      ],
      "metadata": {
        "id": "p5gO7-D8d_qR"
      },
      "execution_count": 10,
      "outputs": []
    },
    {
      "cell_type": "code",
      "execution_count": 1,
      "metadata": {
        "colab": {
          "base_uri": "https://localhost:8080/"
        },
        "id": "vjjZVTwNdbe5",
        "outputId": "530473ef-a897-4c07-fd05-bf58a95663f0"
      },
      "outputs": [
        {
          "output_type": "stream",
          "name": "stderr",
          "text": [
            "<ipython-input-1-71ed092dffce>:13: DtypeWarning: Columns (72,74,75,77) have mixed types. Specify dtype option on import or set low_memory=False.\n",
            "  df = pd.read_csv(csv_file)\n"
          ]
        }
      ],
      "source": [
        "import pandas as pd\n",
        "import requests\n",
        "import io\n",
        "import zipfile\n",
        "\n",
        "url = 'http://fueleconomy.gov/feg/epadata/vehicles.csv.zip'\n",
        "r = requests.get(url)\n",
        "zipfile_data = io.BytesIO(r.content)\n",
        "\n",
        "with zipfile.ZipFile(zipfile_data, 'r') as zip_ref:\n",
        "    csv_file = zip_ref.open(zip_ref.namelist()[0])\n",
        "\n",
        "df = pd.read_csv(csv_file)"
      ]
    },
    {
      "cell_type": "code",
      "source": [
        "df.head()\n",
        "df.shape"
      ],
      "metadata": {
        "colab": {
          "base_uri": "https://localhost:8080/"
        },
        "id": "goi4taeKehJ1",
        "outputId": "02261c7e-8efa-4cd9-bc6c-515884ab9272"
      },
      "execution_count": 17,
      "outputs": [
        {
          "output_type": "execute_result",
          "data": {
            "text/plain": [
              "(47523, 84)"
            ]
          },
          "metadata": {},
          "execution_count": 17
        }
      ]
    },
    {
      "cell_type": "markdown",
      "source": [
        "This tells us that columns 22, 23, 70, 71, 72, and 73 contain mixed data types. Let's find the corresponding names using the following commands:"
      ],
      "metadata": {
        "id": "x7_8atzMesDK"
      }
    },
    {
      "cell_type": "code",
      "source": [
        "column_names = df.columns.values\n",
        "column_names[[22, 23, 70, 71, 72, 73]]\n"
      ],
      "metadata": {
        "colab": {
          "base_uri": "https://localhost:8080/"
        },
        "id": "3NoLwHVzenP8",
        "outputId": "0134b50c-803d-4991-e3a1-a165da9286c9"
      },
      "execution_count": 14,
      "outputs": [
        {
          "output_type": "execute_result",
          "data": {
            "text/plain": [
              "array(['cylinders', 'displ', 'atvType', 'fuelType2', 'rangeA', 'evMotor'],\n",
              "      dtype=object)"
            ]
          },
          "metadata": {},
          "execution_count": 14
        }
      ]
    },
    {
      "cell_type": "markdown",
      "source": [],
      "metadata": {
        "id": "Zt7XLiPjfXIc"
      }
    },
    {
      "cell_type": "markdown",
      "source": [
        "##Preliminary analysis"
      ],
      "metadata": {
        "id": "wEH1qMU-fon1"
      }
    },
    {
      "cell_type": "code",
      "source": [
        "print(\"length: \",len(df))\n",
        "print(\"collumns: \", len(df.columns))\n",
        "print(df.columns)"
      ],
      "metadata": {
        "colab": {
          "base_uri": "https://localhost:8080/"
        },
        "id": "odh1Z9TdfrW7",
        "outputId": "468391cf-b99c-44b9-b3d3-84215794be2f"
      },
      "execution_count": 23,
      "outputs": [
        {
          "output_type": "stream",
          "name": "stdout",
          "text": [
            "length:  47523\n",
            "collumns:  84\n",
            "Index(['barrels08', 'barrelsA08', 'charge120', 'charge240', 'city08',\n",
            "       'city08U', 'cityA08', 'cityA08U', 'cityCD', 'cityE', 'cityUF', 'co2',\n",
            "       'co2A', 'co2TailpipeAGpm', 'co2TailpipeGpm', 'comb08', 'comb08U',\n",
            "       'combA08', 'combA08U', 'combE', 'combinedCD', 'combinedUF', 'cylinders',\n",
            "       'displ', 'drive', 'engId', 'eng_dscr', 'feScore', 'fuelCost08',\n",
            "       'fuelCostA08', 'fuelType', 'fuelType1', 'ghgScore', 'ghgScoreA',\n",
            "       'highway08', 'highway08U', 'highwayA08', 'highwayA08U', 'highwayCD',\n",
            "       'highwayE', 'highwayUF', 'hlv', 'hpv', 'id', 'lv2', 'lv4', 'make',\n",
            "       'model', 'mpgData', 'phevBlended', 'pv2', 'pv4', 'range', 'rangeCity',\n",
            "       'rangeCityA', 'rangeHwy', 'rangeHwyA', 'trany', 'UCity', 'UCityA',\n",
            "       'UHighway', 'UHighwayA', 'VClass', 'year', 'youSaveSpend', 'baseModel',\n",
            "       'guzzler', 'trans_dscr', 'tCharger', 'sCharger', 'atvType', 'fuelType2',\n",
            "       'rangeA', 'evMotor', 'mfrCode', 'c240Dscr', 'charge240b', 'c240bDscr',\n",
            "       'createdOn', 'modifiedOn', 'startStop', 'phevCity', 'phevHwy',\n",
            "       'phevComb'],\n",
            "      dtype='object')\n"
          ]
        }
      ]
    },
    {
      "cell_type": "markdown",
      "source": [
        "Let's find out how many unique years of data are included in this dataset and what the first and last years are using the following command:"
      ],
      "metadata": {
        "id": "Ma7f5cw8gBYH"
      }
    },
    {
      "cell_type": "code",
      "source": [
        "print(\"Unique years data: \", pd.unique(df.year))\n",
        "print(\"Min year: \", min(df.year))\n",
        "print(\"Max year: \", max(df.year))\n"
      ],
      "metadata": {
        "colab": {
          "base_uri": "https://localhost:8080/"
        },
        "id": "WLMw0oyEfs4O",
        "outputId": "6f98dfa5-2cf1-413a-dd69-d166bb8df6c0"
      },
      "execution_count": 24,
      "outputs": [
        {
          "output_type": "stream",
          "name": "stdout",
          "text": [
            "Unique years data:  [1985 1993 1994 1995 1996 1997 1998 1999 2000 2001 1986 2002 2003 2004\n",
            " 2005 2006 2007 2008 2009 2010 1984 1987 1988 1989 1990 1991 1992 2011\n",
            " 2012 2013 2014 2015 2016 2017 2018 2019 2020 2021 2022 2023 2024 2025]\n",
            "Min year:  1984\n",
            "Max year:  2025\n"
          ]
        }
      ]
    },
    {
      "cell_type": "markdown",
      "source": [
        "Let's find out what types of fuel are used as the automobiles' primary fuel types."
      ],
      "metadata": {
        "id": "nvMf2Yg7gTkr"
      }
    },
    {
      "cell_type": "code",
      "source": [
        "print(\"Types of fuel\", pd.value_counts(df.fuelType1))"
      ],
      "metadata": {
        "colab": {
          "base_uri": "https://localhost:8080/"
        },
        "id": "tD94vzlzgW7K",
        "outputId": "24690197-9d3a-489b-cad5-1ad1eb1b6088"
      },
      "execution_count": 25,
      "outputs": [
        {
          "output_type": "stream",
          "name": "stdout",
          "text": [
            "Types of fuel fuelType1\n",
            "Regular Gasoline     30426\n",
            "Premium Gasoline     14801\n",
            "Diesel                1274\n",
            "Electricity            766\n",
            "Midgrade Gasoline      164\n",
            "Natural Gas             60\n",
            "Hydrogen                32\n",
            "Name: count, dtype: int64\n"
          ]
        }
      ]
    },
    {
      "cell_type": "markdown",
      "source": [
        "Now if we want to explore what types of transmissions these automobiles have, we immediately try the following command:"
      ],
      "metadata": {
        "id": "-eDgSryrgjOH"
      }
    },
    {
      "cell_type": "code",
      "source": [
        "print(\"Types of transmissions:\", pd.value_counts(df.trany))"
      ],
      "metadata": {
        "colab": {
          "base_uri": "https://localhost:8080/"
        },
        "id": "CcnpN1upglAt",
        "outputId": "ceb3af26-8a4d-43ab-feb7-f48b60d2bc22"
      },
      "execution_count": 26,
      "outputs": [
        {
          "output_type": "stream",
          "name": "stdout",
          "text": [
            "Types of transmissions: trany\n",
            "Automatic 4-spd                     11048\n",
            "Manual 5-spd                         8391\n",
            "Automatic (S6)                       3337\n",
            "Automatic (S8)                       3157\n",
            "Automatic 3-spd                      3151\n",
            "Manual 6-spd                         3079\n",
            "Automatic 5-spd                      2203\n",
            "Automatic 6-spd                      1752\n",
            "Manual 4-spd                         1483\n",
            "Automatic (variable gear ratios)     1104\n",
            "Automatic 8-spd                       978\n",
            "Automatic (S5)                        848\n",
            "Automatic (AM-S7)                     763\n",
            "Automatic 9-spd                       745\n",
            "Automatic (A1)                        730\n",
            "Automatic 7-spd                       720\n",
            "Automatic (S10)                       588\n",
            "Automatic (S7)                        386\n",
            "Automatic 10-spd                      380\n",
            "Automatic (AV-S6)                     324\n",
            "Automatic (AM7)                       318\n",
            "Automatic (AM-S8)                     285\n",
            "Automatic (S9)                        250\n",
            "Automatic (S4)                        233\n",
            "Automatic (AV-S7)                     214\n",
            "Automatic (AM-S6)                     191\n",
            "Automatic (AV-S8)                     183\n",
            "Manual 7-spd                          176\n",
            "Automatic (AM6)                       160\n",
            "Manual 3-spd                           77\n",
            "Automatic (AM8)                        69\n",
            "Automatic (A2)                         64\n",
            "Automatic (AV-S10)                     53\n",
            "Automatic (AV-S1)                      29\n",
            "Manual 4-spd Doubled                   17\n",
            "Automatic (AM5)                        14\n",
            "Automatic (AM-S9)                       6\n",
            "Automatic (L3)                          2\n",
            "Automatic (L4)                          2\n",
            "Automatic (AM-S10)                      2\n",
            "Name: count, dtype: int64\n"
          ]
        }
      ]
    },
    {
      "cell_type": "markdown",
      "source": [
        "What we really want to know is the number of cars with automatic and manual transmissions. We notice that the trany variable always starts with the letter A when it represents an automatic transmission and M for manual transmission. Thus, we create a new variable, trany2, that contains the first character of the trany variable, which is a string:\n"
      ],
      "metadata": {
        "id": "2rNyWYxigvlD"
      }
    },
    {
      "cell_type": "code",
      "source": [
        "df[\"trany2\"] = df.trany.str[0]\n",
        "print(\"New Types of Transmissions: \", pd.value_counts(df.trany2))"
      ],
      "metadata": {
        "colab": {
          "base_uri": "https://localhost:8080/"
        },
        "id": "7Z_4nKVzgy02",
        "outputId": "ab72ef93-137d-43b2-edc9-cc13b20d6557"
      },
      "execution_count": 27,
      "outputs": [
        {
          "output_type": "stream",
          "name": "stdout",
          "text": [
            "New Types of Transmissions:  trany2\n",
            "A    34289\n",
            "M    13223\n",
            "Name: count, dtype: int64\n"
          ]
        }
      ]
    },
    {
      "cell_type": "markdown",
      "source": [
        "## Data Analysis\n",
        "We are going to look at some of the fuel efficiency metrics over time and in relation to other data points. To do so, we are going to have to replicate the functionality of two very popular R libraries, which are plyr and ggplot2, in Python. The split-apply-combine data analysis capabilities that are so handily covered by the plyr R library are handled equally well but in a slightly different fashion by pandas right out of the box.\n",
        "\n",
        "Let's start by looking at whether there is an overall trend of how mpg changes over\n",
        "time on average. We first want to group the data by year:"
      ],
      "metadata": {
        "id": "FbbToLChhb6j"
      }
    },
    {
      "cell_type": "code",
      "source": [
        "grouped = df.groupby(\"year\")\n",
        "# Next, we want to compute the mean of three separate columns by the previous grouping\n",
        "averaged = grouped[['comb08',  'highway08','city08']].agg([np.mean])\n",
        "averaged.head()"
      ],
      "metadata": {
        "colab": {
          "base_uri": "https://localhost:8080/",
          "height": 269
        },
        "id": "VakAQSlKhmDx",
        "outputId": "7a3f2823-1c67-4341-a010-b02482d983e8"
      },
      "execution_count": 38,
      "outputs": [
        {
          "output_type": "execute_result",
          "data": {
            "text/plain": [
              "         comb08  highway08     city08\n",
              "           mean       mean       mean\n",
              "year                                 \n",
              "1984  19.881874  23.075356  17.982688\n",
              "1985  19.808348  23.042328  17.878307\n",
              "1986  19.550413  22.699174  17.665289\n",
              "1987  19.228549  22.445068  17.310345\n",
              "1988  19.328319  22.702655  17.333628"
            ],
            "text/html": [
              "\n",
              "  <div id=\"df-b3cfe690-1d6a-45d5-8e32-b71dc4b5dd75\" class=\"colab-df-container\">\n",
              "    <div>\n",
              "<style scoped>\n",
              "    .dataframe tbody tr th:only-of-type {\n",
              "        vertical-align: middle;\n",
              "    }\n",
              "\n",
              "    .dataframe tbody tr th {\n",
              "        vertical-align: top;\n",
              "    }\n",
              "\n",
              "    .dataframe thead tr th {\n",
              "        text-align: left;\n",
              "    }\n",
              "\n",
              "    .dataframe thead tr:last-of-type th {\n",
              "        text-align: right;\n",
              "    }\n",
              "</style>\n",
              "<table border=\"1\" class=\"dataframe\">\n",
              "  <thead>\n",
              "    <tr>\n",
              "      <th></th>\n",
              "      <th>comb08</th>\n",
              "      <th>highway08</th>\n",
              "      <th>city08</th>\n",
              "    </tr>\n",
              "    <tr>\n",
              "      <th></th>\n",
              "      <th>mean</th>\n",
              "      <th>mean</th>\n",
              "      <th>mean</th>\n",
              "    </tr>\n",
              "    <tr>\n",
              "      <th>year</th>\n",
              "      <th></th>\n",
              "      <th></th>\n",
              "      <th></th>\n",
              "    </tr>\n",
              "  </thead>\n",
              "  <tbody>\n",
              "    <tr>\n",
              "      <th>1984</th>\n",
              "      <td>19.881874</td>\n",
              "      <td>23.075356</td>\n",
              "      <td>17.982688</td>\n",
              "    </tr>\n",
              "    <tr>\n",
              "      <th>1985</th>\n",
              "      <td>19.808348</td>\n",
              "      <td>23.042328</td>\n",
              "      <td>17.878307</td>\n",
              "    </tr>\n",
              "    <tr>\n",
              "      <th>1986</th>\n",
              "      <td>19.550413</td>\n",
              "      <td>22.699174</td>\n",
              "      <td>17.665289</td>\n",
              "    </tr>\n",
              "    <tr>\n",
              "      <th>1987</th>\n",
              "      <td>19.228549</td>\n",
              "      <td>22.445068</td>\n",
              "      <td>17.310345</td>\n",
              "    </tr>\n",
              "    <tr>\n",
              "      <th>1988</th>\n",
              "      <td>19.328319</td>\n",
              "      <td>22.702655</td>\n",
              "      <td>17.333628</td>\n",
              "    </tr>\n",
              "  </tbody>\n",
              "</table>\n",
              "</div>\n",
              "    <div class=\"colab-df-buttons\">\n",
              "\n",
              "  <div class=\"colab-df-container\">\n",
              "    <button class=\"colab-df-convert\" onclick=\"convertToInteractive('df-b3cfe690-1d6a-45d5-8e32-b71dc4b5dd75')\"\n",
              "            title=\"Convert this dataframe to an interactive table.\"\n",
              "            style=\"display:none;\">\n",
              "\n",
              "  <svg xmlns=\"http://www.w3.org/2000/svg\" height=\"24px\" viewBox=\"0 -960 960 960\">\n",
              "    <path d=\"M120-120v-720h720v720H120Zm60-500h600v-160H180v160Zm220 220h160v-160H400v160Zm0 220h160v-160H400v160ZM180-400h160v-160H180v160Zm440 0h160v-160H620v160ZM180-180h160v-160H180v160Zm440 0h160v-160H620v160Z\"/>\n",
              "  </svg>\n",
              "    </button>\n",
              "\n",
              "  <style>\n",
              "    .colab-df-container {\n",
              "      display:flex;\n",
              "      gap: 12px;\n",
              "    }\n",
              "\n",
              "    .colab-df-convert {\n",
              "      background-color: #E8F0FE;\n",
              "      border: none;\n",
              "      border-radius: 50%;\n",
              "      cursor: pointer;\n",
              "      display: none;\n",
              "      fill: #1967D2;\n",
              "      height: 32px;\n",
              "      padding: 0 0 0 0;\n",
              "      width: 32px;\n",
              "    }\n",
              "\n",
              "    .colab-df-convert:hover {\n",
              "      background-color: #E2EBFA;\n",
              "      box-shadow: 0px 1px 2px rgba(60, 64, 67, 0.3), 0px 1px 3px 1px rgba(60, 64, 67, 0.15);\n",
              "      fill: #174EA6;\n",
              "    }\n",
              "\n",
              "    .colab-df-buttons div {\n",
              "      margin-bottom: 4px;\n",
              "    }\n",
              "\n",
              "    [theme=dark] .colab-df-convert {\n",
              "      background-color: #3B4455;\n",
              "      fill: #D2E3FC;\n",
              "    }\n",
              "\n",
              "    [theme=dark] .colab-df-convert:hover {\n",
              "      background-color: #434B5C;\n",
              "      box-shadow: 0px 1px 3px 1px rgba(0, 0, 0, 0.15);\n",
              "      filter: drop-shadow(0px 1px 2px rgba(0, 0, 0, 0.3));\n",
              "      fill: #FFFFFF;\n",
              "    }\n",
              "  </style>\n",
              "\n",
              "    <script>\n",
              "      const buttonEl =\n",
              "        document.querySelector('#df-b3cfe690-1d6a-45d5-8e32-b71dc4b5dd75 button.colab-df-convert');\n",
              "      buttonEl.style.display =\n",
              "        google.colab.kernel.accessAllowed ? 'block' : 'none';\n",
              "\n",
              "      async function convertToInteractive(key) {\n",
              "        const element = document.querySelector('#df-b3cfe690-1d6a-45d5-8e32-b71dc4b5dd75');\n",
              "        const dataTable =\n",
              "          await google.colab.kernel.invokeFunction('convertToInteractive',\n",
              "                                                    [key], {});\n",
              "        if (!dataTable) return;\n",
              "\n",
              "        const docLinkHtml = 'Like what you see? Visit the ' +\n",
              "          '<a target=\"_blank\" href=https://colab.research.google.com/notebooks/data_table.ipynb>data table notebook</a>'\n",
              "          + ' to learn more about interactive tables.';\n",
              "        element.innerHTML = '';\n",
              "        dataTable['output_type'] = 'display_data';\n",
              "        await google.colab.output.renderOutput(dataTable, element);\n",
              "        const docLink = document.createElement('div');\n",
              "        docLink.innerHTML = docLinkHtml;\n",
              "        element.appendChild(docLink);\n",
              "      }\n",
              "    </script>\n",
              "  </div>\n",
              "\n",
              "\n",
              "<div id=\"df-6ac70ea4-8553-43e1-87fb-c04da218fe5f\">\n",
              "  <button class=\"colab-df-quickchart\" onclick=\"quickchart('df-6ac70ea4-8553-43e1-87fb-c04da218fe5f')\"\n",
              "            title=\"Suggest charts\"\n",
              "            style=\"display:none;\">\n",
              "\n",
              "<svg xmlns=\"http://www.w3.org/2000/svg\" height=\"24px\"viewBox=\"0 0 24 24\"\n",
              "     width=\"24px\">\n",
              "    <g>\n",
              "        <path d=\"M19 3H5c-1.1 0-2 .9-2 2v14c0 1.1.9 2 2 2h14c1.1 0 2-.9 2-2V5c0-1.1-.9-2-2-2zM9 17H7v-7h2v7zm4 0h-2V7h2v10zm4 0h-2v-4h2v4z\"/>\n",
              "    </g>\n",
              "</svg>\n",
              "  </button>\n",
              "\n",
              "<style>\n",
              "  .colab-df-quickchart {\n",
              "      --bg-color: #E8F0FE;\n",
              "      --fill-color: #1967D2;\n",
              "      --hover-bg-color: #E2EBFA;\n",
              "      --hover-fill-color: #174EA6;\n",
              "      --disabled-fill-color: #AAA;\n",
              "      --disabled-bg-color: #DDD;\n",
              "  }\n",
              "\n",
              "  [theme=dark] .colab-df-quickchart {\n",
              "      --bg-color: #3B4455;\n",
              "      --fill-color: #D2E3FC;\n",
              "      --hover-bg-color: #434B5C;\n",
              "      --hover-fill-color: #FFFFFF;\n",
              "      --disabled-bg-color: #3B4455;\n",
              "      --disabled-fill-color: #666;\n",
              "  }\n",
              "\n",
              "  .colab-df-quickchart {\n",
              "    background-color: var(--bg-color);\n",
              "    border: none;\n",
              "    border-radius: 50%;\n",
              "    cursor: pointer;\n",
              "    display: none;\n",
              "    fill: var(--fill-color);\n",
              "    height: 32px;\n",
              "    padding: 0;\n",
              "    width: 32px;\n",
              "  }\n",
              "\n",
              "  .colab-df-quickchart:hover {\n",
              "    background-color: var(--hover-bg-color);\n",
              "    box-shadow: 0 1px 2px rgba(60, 64, 67, 0.3), 0 1px 3px 1px rgba(60, 64, 67, 0.15);\n",
              "    fill: var(--button-hover-fill-color);\n",
              "  }\n",
              "\n",
              "  .colab-df-quickchart-complete:disabled,\n",
              "  .colab-df-quickchart-complete:disabled:hover {\n",
              "    background-color: var(--disabled-bg-color);\n",
              "    fill: var(--disabled-fill-color);\n",
              "    box-shadow: none;\n",
              "  }\n",
              "\n",
              "  .colab-df-spinner {\n",
              "    border: 2px solid var(--fill-color);\n",
              "    border-color: transparent;\n",
              "    border-bottom-color: var(--fill-color);\n",
              "    animation:\n",
              "      spin 1s steps(1) infinite;\n",
              "  }\n",
              "\n",
              "  @keyframes spin {\n",
              "    0% {\n",
              "      border-color: transparent;\n",
              "      border-bottom-color: var(--fill-color);\n",
              "      border-left-color: var(--fill-color);\n",
              "    }\n",
              "    20% {\n",
              "      border-color: transparent;\n",
              "      border-left-color: var(--fill-color);\n",
              "      border-top-color: var(--fill-color);\n",
              "    }\n",
              "    30% {\n",
              "      border-color: transparent;\n",
              "      border-left-color: var(--fill-color);\n",
              "      border-top-color: var(--fill-color);\n",
              "      border-right-color: var(--fill-color);\n",
              "    }\n",
              "    40% {\n",
              "      border-color: transparent;\n",
              "      border-right-color: var(--fill-color);\n",
              "      border-top-color: var(--fill-color);\n",
              "    }\n",
              "    60% {\n",
              "      border-color: transparent;\n",
              "      border-right-color: var(--fill-color);\n",
              "    }\n",
              "    80% {\n",
              "      border-color: transparent;\n",
              "      border-right-color: var(--fill-color);\n",
              "      border-bottom-color: var(--fill-color);\n",
              "    }\n",
              "    90% {\n",
              "      border-color: transparent;\n",
              "      border-bottom-color: var(--fill-color);\n",
              "    }\n",
              "  }\n",
              "</style>\n",
              "\n",
              "  <script>\n",
              "    async function quickchart(key) {\n",
              "      const quickchartButtonEl =\n",
              "        document.querySelector('#' + key + ' button');\n",
              "      quickchartButtonEl.disabled = true;  // To prevent multiple clicks.\n",
              "      quickchartButtonEl.classList.add('colab-df-spinner');\n",
              "      try {\n",
              "        const charts = await google.colab.kernel.invokeFunction(\n",
              "            'suggestCharts', [key], {});\n",
              "      } catch (error) {\n",
              "        console.error('Error during call to suggestCharts:', error);\n",
              "      }\n",
              "      quickchartButtonEl.classList.remove('colab-df-spinner');\n",
              "      quickchartButtonEl.classList.add('colab-df-quickchart-complete');\n",
              "    }\n",
              "    (() => {\n",
              "      let quickchartButtonEl =\n",
              "        document.querySelector('#df-6ac70ea4-8553-43e1-87fb-c04da218fe5f button');\n",
              "      quickchartButtonEl.style.display =\n",
              "        google.colab.kernel.accessAllowed ? 'block' : 'none';\n",
              "    })();\n",
              "  </script>\n",
              "</div>\n",
              "\n",
              "    </div>\n",
              "  </div>\n"
            ],
            "application/vnd.google.colaboratory.intrinsic+json": {
              "type": "dataframe",
              "variable_name": "averaged",
              "summary": "{\n  \"name\": \"averaged\",\n  \"rows\": 42,\n  \"fields\": [\n    {\n      \"column\": [\n        \"year\",\n        \"\"\n      ],\n      \"properties\": {\n        \"dtype\": \"number\",\n        \"std\": 12,\n        \"min\": 1984,\n        \"max\": 2025,\n        \"num_unique_values\": 42,\n        \"samples\": [\n          2009,\n          1997,\n          1992\n        ],\n        \"semantic_type\": \"\",\n        \"description\": \"\"\n      }\n    },\n    {\n      \"column\": [\n        \"comb08\",\n        \"mean\"\n      ],\n      \"properties\": {\n        \"dtype\": \"number\",\n        \"std\": 3.895446750802692,\n        \"min\": 18.797311271975182,\n        \"max\": 36.50609260763607,\n        \"num_unique_values\": 42,\n        \"samples\": [\n          19.735817104149028,\n          19.429133858267715,\n          18.86262265834077\n        ],\n        \"semantic_type\": \"\",\n        \"description\": \"\"\n      }\n    },\n    {\n      \"column\": [\n        \"highway08\",\n        \"mean\"\n      ],\n      \"properties\": {\n        \"dtype\": \"number\",\n        \"std\": 3.7451898090984765,\n        \"min\": 22.253533568904594,\n        \"max\": 38.563769293257515,\n        \"num_unique_values\": 42,\n        \"samples\": [\n          24.018628281117696,\n          23.451443569553806,\n          22.43978590544157\n        ],\n        \"semantic_type\": \"\",\n        \"description\": \"\"\n      }\n    },\n    {\n      \"column\": [\n        \"city08\",\n        \"mean\"\n      ],\n      \"properties\": {\n        \"dtype\": \"number\",\n        \"std\": 4.04989487679715,\n        \"min\": 16.569803516028955,\n        \"max\": 35.61169780666125,\n        \"num_unique_values\": 42,\n        \"samples\": [\n          17.333615580016936,\n          17.135170603674542,\n          16.805530776092773\n        ],\n        \"semantic_type\": \"\",\n        \"description\": \"\"\n      }\n    }\n  ]\n}"
            }
          },
          "metadata": {},
          "execution_count": 38
        }
      ]
    },
    {
      "cell_type": "markdown",
      "source": [
        "To make life easier, we will rename the columns and then create a new column named year, which contains the data frame's index:"
      ],
      "metadata": {
        "id": "N01rYgCukMaK"
      }
    },
    {
      "cell_type": "code",
      "source": [
        "averaged.columns = ['comb08_mean','highway08_mean','city08_mean']\n",
        "averaged['year'] = averaged.index\n",
        "averaged.head()"
      ],
      "metadata": {
        "colab": {
          "base_uri": "https://localhost:8080/",
          "height": 238
        },
        "id": "_E9S_DXOkAfJ",
        "outputId": "ebe2b29f-a763-480e-8840-df474907a1b2"
      },
      "execution_count": 40,
      "outputs": [
        {
          "output_type": "execute_result",
          "data": {
            "text/plain": [
              "      comb08_mean  highway08_mean  city08_mean  year\n",
              "year                                                \n",
              "1984    19.881874       23.075356    17.982688  1984\n",
              "1985    19.808348       23.042328    17.878307  1985\n",
              "1986    19.550413       22.699174    17.665289  1986\n",
              "1987    19.228549       22.445068    17.310345  1987\n",
              "1988    19.328319       22.702655    17.333628  1988"
            ],
            "text/html": [
              "\n",
              "  <div id=\"df-cbcbbfc1-9388-4958-a148-b524811a2906\" class=\"colab-df-container\">\n",
              "    <div>\n",
              "<style scoped>\n",
              "    .dataframe tbody tr th:only-of-type {\n",
              "        vertical-align: middle;\n",
              "    }\n",
              "\n",
              "    .dataframe tbody tr th {\n",
              "        vertical-align: top;\n",
              "    }\n",
              "\n",
              "    .dataframe thead th {\n",
              "        text-align: right;\n",
              "    }\n",
              "</style>\n",
              "<table border=\"1\" class=\"dataframe\">\n",
              "  <thead>\n",
              "    <tr style=\"text-align: right;\">\n",
              "      <th></th>\n",
              "      <th>comb08_mean</th>\n",
              "      <th>highway08_mean</th>\n",
              "      <th>city08_mean</th>\n",
              "      <th>year</th>\n",
              "    </tr>\n",
              "    <tr>\n",
              "      <th>year</th>\n",
              "      <th></th>\n",
              "      <th></th>\n",
              "      <th></th>\n",
              "      <th></th>\n",
              "    </tr>\n",
              "  </thead>\n",
              "  <tbody>\n",
              "    <tr>\n",
              "      <th>1984</th>\n",
              "      <td>19.881874</td>\n",
              "      <td>23.075356</td>\n",
              "      <td>17.982688</td>\n",
              "      <td>1984</td>\n",
              "    </tr>\n",
              "    <tr>\n",
              "      <th>1985</th>\n",
              "      <td>19.808348</td>\n",
              "      <td>23.042328</td>\n",
              "      <td>17.878307</td>\n",
              "      <td>1985</td>\n",
              "    </tr>\n",
              "    <tr>\n",
              "      <th>1986</th>\n",
              "      <td>19.550413</td>\n",
              "      <td>22.699174</td>\n",
              "      <td>17.665289</td>\n",
              "      <td>1986</td>\n",
              "    </tr>\n",
              "    <tr>\n",
              "      <th>1987</th>\n",
              "      <td>19.228549</td>\n",
              "      <td>22.445068</td>\n",
              "      <td>17.310345</td>\n",
              "      <td>1987</td>\n",
              "    </tr>\n",
              "    <tr>\n",
              "      <th>1988</th>\n",
              "      <td>19.328319</td>\n",
              "      <td>22.702655</td>\n",
              "      <td>17.333628</td>\n",
              "      <td>1988</td>\n",
              "    </tr>\n",
              "  </tbody>\n",
              "</table>\n",
              "</div>\n",
              "    <div class=\"colab-df-buttons\">\n",
              "\n",
              "  <div class=\"colab-df-container\">\n",
              "    <button class=\"colab-df-convert\" onclick=\"convertToInteractive('df-cbcbbfc1-9388-4958-a148-b524811a2906')\"\n",
              "            title=\"Convert this dataframe to an interactive table.\"\n",
              "            style=\"display:none;\">\n",
              "\n",
              "  <svg xmlns=\"http://www.w3.org/2000/svg\" height=\"24px\" viewBox=\"0 -960 960 960\">\n",
              "    <path d=\"M120-120v-720h720v720H120Zm60-500h600v-160H180v160Zm220 220h160v-160H400v160Zm0 220h160v-160H400v160ZM180-400h160v-160H180v160Zm440 0h160v-160H620v160ZM180-180h160v-160H180v160Zm440 0h160v-160H620v160Z\"/>\n",
              "  </svg>\n",
              "    </button>\n",
              "\n",
              "  <style>\n",
              "    .colab-df-container {\n",
              "      display:flex;\n",
              "      gap: 12px;\n",
              "    }\n",
              "\n",
              "    .colab-df-convert {\n",
              "      background-color: #E8F0FE;\n",
              "      border: none;\n",
              "      border-radius: 50%;\n",
              "      cursor: pointer;\n",
              "      display: none;\n",
              "      fill: #1967D2;\n",
              "      height: 32px;\n",
              "      padding: 0 0 0 0;\n",
              "      width: 32px;\n",
              "    }\n",
              "\n",
              "    .colab-df-convert:hover {\n",
              "      background-color: #E2EBFA;\n",
              "      box-shadow: 0px 1px 2px rgba(60, 64, 67, 0.3), 0px 1px 3px 1px rgba(60, 64, 67, 0.15);\n",
              "      fill: #174EA6;\n",
              "    }\n",
              "\n",
              "    .colab-df-buttons div {\n",
              "      margin-bottom: 4px;\n",
              "    }\n",
              "\n",
              "    [theme=dark] .colab-df-convert {\n",
              "      background-color: #3B4455;\n",
              "      fill: #D2E3FC;\n",
              "    }\n",
              "\n",
              "    [theme=dark] .colab-df-convert:hover {\n",
              "      background-color: #434B5C;\n",
              "      box-shadow: 0px 1px 3px 1px rgba(0, 0, 0, 0.15);\n",
              "      filter: drop-shadow(0px 1px 2px rgba(0, 0, 0, 0.3));\n",
              "      fill: #FFFFFF;\n",
              "    }\n",
              "  </style>\n",
              "\n",
              "    <script>\n",
              "      const buttonEl =\n",
              "        document.querySelector('#df-cbcbbfc1-9388-4958-a148-b524811a2906 button.colab-df-convert');\n",
              "      buttonEl.style.display =\n",
              "        google.colab.kernel.accessAllowed ? 'block' : 'none';\n",
              "\n",
              "      async function convertToInteractive(key) {\n",
              "        const element = document.querySelector('#df-cbcbbfc1-9388-4958-a148-b524811a2906');\n",
              "        const dataTable =\n",
              "          await google.colab.kernel.invokeFunction('convertToInteractive',\n",
              "                                                    [key], {});\n",
              "        if (!dataTable) return;\n",
              "\n",
              "        const docLinkHtml = 'Like what you see? Visit the ' +\n",
              "          '<a target=\"_blank\" href=https://colab.research.google.com/notebooks/data_table.ipynb>data table notebook</a>'\n",
              "          + ' to learn more about interactive tables.';\n",
              "        element.innerHTML = '';\n",
              "        dataTable['output_type'] = 'display_data';\n",
              "        await google.colab.output.renderOutput(dataTable, element);\n",
              "        const docLink = document.createElement('div');\n",
              "        docLink.innerHTML = docLinkHtml;\n",
              "        element.appendChild(docLink);\n",
              "      }\n",
              "    </script>\n",
              "  </div>\n",
              "\n",
              "\n",
              "<div id=\"df-d6213236-af76-4dad-a456-a921df9e13a2\">\n",
              "  <button class=\"colab-df-quickchart\" onclick=\"quickchart('df-d6213236-af76-4dad-a456-a921df9e13a2')\"\n",
              "            title=\"Suggest charts\"\n",
              "            style=\"display:none;\">\n",
              "\n",
              "<svg xmlns=\"http://www.w3.org/2000/svg\" height=\"24px\"viewBox=\"0 0 24 24\"\n",
              "     width=\"24px\">\n",
              "    <g>\n",
              "        <path d=\"M19 3H5c-1.1 0-2 .9-2 2v14c0 1.1.9 2 2 2h14c1.1 0 2-.9 2-2V5c0-1.1-.9-2-2-2zM9 17H7v-7h2v7zm4 0h-2V7h2v10zm4 0h-2v-4h2v4z\"/>\n",
              "    </g>\n",
              "</svg>\n",
              "  </button>\n",
              "\n",
              "<style>\n",
              "  .colab-df-quickchart {\n",
              "      --bg-color: #E8F0FE;\n",
              "      --fill-color: #1967D2;\n",
              "      --hover-bg-color: #E2EBFA;\n",
              "      --hover-fill-color: #174EA6;\n",
              "      --disabled-fill-color: #AAA;\n",
              "      --disabled-bg-color: #DDD;\n",
              "  }\n",
              "\n",
              "  [theme=dark] .colab-df-quickchart {\n",
              "      --bg-color: #3B4455;\n",
              "      --fill-color: #D2E3FC;\n",
              "      --hover-bg-color: #434B5C;\n",
              "      --hover-fill-color: #FFFFFF;\n",
              "      --disabled-bg-color: #3B4455;\n",
              "      --disabled-fill-color: #666;\n",
              "  }\n",
              "\n",
              "  .colab-df-quickchart {\n",
              "    background-color: var(--bg-color);\n",
              "    border: none;\n",
              "    border-radius: 50%;\n",
              "    cursor: pointer;\n",
              "    display: none;\n",
              "    fill: var(--fill-color);\n",
              "    height: 32px;\n",
              "    padding: 0;\n",
              "    width: 32px;\n",
              "  }\n",
              "\n",
              "  .colab-df-quickchart:hover {\n",
              "    background-color: var(--hover-bg-color);\n",
              "    box-shadow: 0 1px 2px rgba(60, 64, 67, 0.3), 0 1px 3px 1px rgba(60, 64, 67, 0.15);\n",
              "    fill: var(--button-hover-fill-color);\n",
              "  }\n",
              "\n",
              "  .colab-df-quickchart-complete:disabled,\n",
              "  .colab-df-quickchart-complete:disabled:hover {\n",
              "    background-color: var(--disabled-bg-color);\n",
              "    fill: var(--disabled-fill-color);\n",
              "    box-shadow: none;\n",
              "  }\n",
              "\n",
              "  .colab-df-spinner {\n",
              "    border: 2px solid var(--fill-color);\n",
              "    border-color: transparent;\n",
              "    border-bottom-color: var(--fill-color);\n",
              "    animation:\n",
              "      spin 1s steps(1) infinite;\n",
              "  }\n",
              "\n",
              "  @keyframes spin {\n",
              "    0% {\n",
              "      border-color: transparent;\n",
              "      border-bottom-color: var(--fill-color);\n",
              "      border-left-color: var(--fill-color);\n",
              "    }\n",
              "    20% {\n",
              "      border-color: transparent;\n",
              "      border-left-color: var(--fill-color);\n",
              "      border-top-color: var(--fill-color);\n",
              "    }\n",
              "    30% {\n",
              "      border-color: transparent;\n",
              "      border-left-color: var(--fill-color);\n",
              "      border-top-color: var(--fill-color);\n",
              "      border-right-color: var(--fill-color);\n",
              "    }\n",
              "    40% {\n",
              "      border-color: transparent;\n",
              "      border-right-color: var(--fill-color);\n",
              "      border-top-color: var(--fill-color);\n",
              "    }\n",
              "    60% {\n",
              "      border-color: transparent;\n",
              "      border-right-color: var(--fill-color);\n",
              "    }\n",
              "    80% {\n",
              "      border-color: transparent;\n",
              "      border-right-color: var(--fill-color);\n",
              "      border-bottom-color: var(--fill-color);\n",
              "    }\n",
              "    90% {\n",
              "      border-color: transparent;\n",
              "      border-bottom-color: var(--fill-color);\n",
              "    }\n",
              "  }\n",
              "</style>\n",
              "\n",
              "  <script>\n",
              "    async function quickchart(key) {\n",
              "      const quickchartButtonEl =\n",
              "        document.querySelector('#' + key + ' button');\n",
              "      quickchartButtonEl.disabled = true;  // To prevent multiple clicks.\n",
              "      quickchartButtonEl.classList.add('colab-df-spinner');\n",
              "      try {\n",
              "        const charts = await google.colab.kernel.invokeFunction(\n",
              "            'suggestCharts', [key], {});\n",
              "      } catch (error) {\n",
              "        console.error('Error during call to suggestCharts:', error);\n",
              "      }\n",
              "      quickchartButtonEl.classList.remove('colab-df-spinner');\n",
              "      quickchartButtonEl.classList.add('colab-df-quickchart-complete');\n",
              "    }\n",
              "    (() => {\n",
              "      let quickchartButtonEl =\n",
              "        document.querySelector('#df-d6213236-af76-4dad-a456-a921df9e13a2 button');\n",
              "      quickchartButtonEl.style.display =\n",
              "        google.colab.kernel.accessAllowed ? 'block' : 'none';\n",
              "    })();\n",
              "  </script>\n",
              "</div>\n",
              "\n",
              "    </div>\n",
              "  </div>\n"
            ],
            "application/vnd.google.colaboratory.intrinsic+json": {
              "type": "dataframe",
              "variable_name": "averaged",
              "repr_error": "cannot insert year, already exists"
            }
          },
          "metadata": {},
          "execution_count": 40
        }
      ]
    },
    {
      "cell_type": "markdown",
      "source": [
        "Finally, we want to plot the results as a scatter plot"
      ],
      "metadata": {
        "id": "zAZm9UOCkcx2"
      }
    },
    {
      "cell_type": "code",
      "source": [
        "import matplotlib.pyplot as plt\n",
        "\n",
        "# Convert the MultiIndex DataFrame to a regular DataFrame\n",
        "#averaged = averaged.reset_index()\n",
        "\n",
        "# Create a figure and axis\n",
        "fig, ax = plt.subplots()\n",
        "\n",
        "# Plot the data\n",
        "ax.plot(averaged['year'], averaged['comb08_mean'], 'o', color='steelblue')\n",
        "\n",
        "# Set axis labels and title\n",
        "ax.set_xlabel('Year')\n",
        "ax.set_ylabel('Average MPG')\n",
        "ax.set_title('All cars')\n",
        "\n",
        "# Show the plot\n",
        "plt.show()"
      ],
      "metadata": {
        "colab": {
          "base_uri": "https://localhost:8080/",
          "height": 472
        },
        "id": "nPhczRoVkeTn",
        "outputId": "9f70e2b6-ef82-4c61-868d-75f8644396b9"
      },
      "execution_count": 42,
      "outputs": [
        {
          "output_type": "display_data",
          "data": {
            "text/plain": [
              "<Figure size 640x480 with 1 Axes>"
            ],
            "image/png": "[encoded data removed]"
          },
          "metadata": {}
        }
      ]
    },
    {
      "cell_type": "markdown",
      "source": [
        "This plot might be misleading as hybrid cars with excellent mileage have recently become more popular."
      ],
      "metadata": {
        "id": "wodX-LzKlAyV"
      }
    },
    {
      "cell_type": "markdown",
      "source": [
        "To remove hybrid cars, we create three Boolean arrays. The criteria1 array selects those rows of the data frame where fuelType1 is Regular Gasoline, Premium Gasoline, or Midgrade Gasoline. The criteria2 array makes sure that the rows contain a null for fuelType2, and criteria3 ensures that the atvType is not Hybrid. We can perform the logical AND operation over these three Boolean arrays together to select only the desired rows from the data frame:"
      ],
      "metadata": {
        "id": "BXlsEK7KlFm6"
      }
    },
    {
      "cell_type": "code",
      "source": [
        "criteria1 = df.fuelType1.isin([\"Regular Gasoline\",\n",
        "   \"Premium Gasoline\", \"Midgrade Gasoline\"])\n",
        "criteria2 = df.fuelType2.isnull()\n",
        "criteria3 = df.atvType != \"Hybrid\"\n",
        "vehicles_non_hybrid = df[criteria1 & criteria2 &\n",
        "   criteria3]\n",
        "len(vehicles_non_hybrid)"
      ],
      "metadata": {
        "colab": {
          "base_uri": "https://localhost:8080/"
        },
        "id": "xJFg9rFalKCV",
        "outputId": "35007707-3071-4438-e7e2-f53dd2ff0242"
      },
      "execution_count": 45,
      "outputs": [
        {
          "output_type": "execute_result",
          "data": {
            "text/plain": [
              "42120"
            ]
          },
          "metadata": {},
          "execution_count": 45
        }
      ]
    },
    {
      "cell_type": "markdown",
      "source": [
        "We group the resulting data frame by year and then compute the mean combination fuel efficiency for each year, resulting in the following data frame:"
      ],
      "metadata": {
        "id": "Gcp6PKcjlZLr"
      }
    },
    {
      "cell_type": "code",
      "source": [
        "grouped = vehicles_non_hybrid.groupby(['year'])\n",
        "averaged = grouped['comb08'].agg([np.mean])\n",
        "print(averaged)"
      ],
      "metadata": {
        "colab": {
          "base_uri": "https://localhost:8080/"
        },
        "id": "msr16W8olarm",
        "outputId": "7613b5aa-0593-42a5-ef5d-a310d362d5cc"
      },
      "execution_count": 46,
      "outputs": [
        {
          "output_type": "stream",
          "name": "stdout",
          "text": [
            "           mean\n",
            "year           \n",
            "1984  19.121622\n",
            "1985  19.394686\n",
            "1986  19.320457\n",
            "1987  19.164568\n",
            "1988  19.367607\n",
            "1989  19.141964\n",
            "1990  19.031459\n",
            "1991  18.838060\n",
            "1992  18.861566\n",
            "1993  19.137383\n",
            "1994  19.092632\n",
            "1995  18.872591\n",
            "1996  19.530962\n",
            "1997  19.368000\n",
            "1998  19.329545\n",
            "1999  19.239759\n",
            "2000  19.169345\n",
            "2001  19.075058\n",
            "2002  18.950270\n",
            "2003  18.761711\n",
            "2004  18.967339\n",
            "2005  19.005510\n",
            "2006  18.786398\n",
            "2007  18.987512\n",
            "2008  19.191781\n",
            "2009  19.738095\n",
            "2010  20.466736\n",
            "2011  20.838219\n",
            "2012  21.407328\n",
            "2013  22.225668\n",
            "2014  22.274691\n",
            "2015  22.413858\n",
            "2016  22.717087\n",
            "2017  22.801075\n",
            "2018  22.825672\n",
            "2019  22.710387\n",
            "2020  22.634100\n",
            "2021  22.277502\n",
            "2022  22.176292\n",
            "2023  22.014146\n",
            "2024  22.090418\n",
            "2025  24.082474\n"
          ]
        }
      ]
    },
    {
      "cell_type": "markdown",
      "source": [
        "Based on the preceding data, we see that there is still a marked rise in the average miles per gallon even after eliminating hybrids.  The next question that we can ask is whether there have been fewer cars with large\n",
        "engines built more recently? If this is true, it could explain the increase in average\n",
        "miles per gallon. First, let's verify that larger engine cars have poorer miles per gallon. To look at this, we need to dig into the displ variable that represents the engine displacement in liters. Remember, pandas gave us a warning about this variable containing multiple data types, so let's compute the unique displ values:\n"
      ],
      "metadata": {
        "id": "nZ-h2zdzlimQ"
      }
    },
    {
      "cell_type": "code",
      "source": [
        "pd.unique(vehicles_non_hybrid.displ)"
      ],
      "metadata": {
        "colab": {
          "base_uri": "https://localhost:8080/"
        },
        "id": "hhvGk1Nslj1K",
        "outputId": "f243ef4f-f5dd-4090-98dd-d7c27c3f833b"
      },
      "execution_count": 47,
      "outputs": [
        {
          "output_type": "execute_result",
          "data": {
            "text/plain": [
              "array([2. , 4.9, 2.2, 5.2, 1.8, 1.6, 2.3, 2.8, 4. , 5. , 3.3, 3.1, 3.8,\n",
              "       4.6, 3.4, 3. , 5.9, 2.5, 4.5, 6.8, 2.4, 2.9, 5.7, 4.3, 3.5, 5.8,\n",
              "       3.2, 4.2, 1.9, 2.6, 7.4, 3.9, 1.5, 1.3, 4.1, 8. , 6. , 3.6, 5.4,\n",
              "       5.6, 1. , 2.1, 1.2, 6.5, 2.7, 4.7, 5.5, 1.1, 5.3, 4.4, 3.7, 6.7,\n",
              "       4.8, 1.7, 6.2, 8.3, 1.4, 6.1, 7. , 8.4, 6.3, nan, 6.6, 6.4, 0.9])"
            ]
          },
          "metadata": {},
          "execution_count": 47
        }
      ]
    },
    {
      "cell_type": "markdown",
      "source": [
        "We see that there are some values that might not be numeric, including the nan value. Let's remove all rows from the vehicles_non_hybrid data frame that have nan displ values and then do the same for the comb08 variable. In the process, let's use the astype method to ensure that each value is of type float, just in case:\n"
      ],
      "metadata": {
        "id": "KTmnmNkWlvKe"
      }
    },
    {
      "cell_type": "code",
      "source": [
        "criteria = vehicles_non_hybrid.displ.notnull()\n",
        "vehicles_non_hybrid = vehicles_non_hybrid[criteria]\n",
        "vehicles_non_hybrid.displ = vehicles_non_hybrid.displ.astype('float')\n",
        "\n",
        "criteria = vehicles_non_hybrid.comb08.notnull()\n",
        "vehicles_non_hybrid = vehicles_non_hybrid[criteria]\n",
        "vehicles_non_hybrid.comb08 = vehicles_non_hybrid.comb08.astype('float')\n"
      ],
      "metadata": {
        "id": "JxGGh7pclvqK"
      },
      "execution_count": 49,
      "outputs": []
    },
    {
      "cell_type": "markdown",
      "source": [
        "Finally, we will produce a scatter plot of the results again"
      ],
      "metadata": {
        "id": "IgLWTOJjmB8b"
      }
    },
    {
      "cell_type": "code",
      "source": [
        "# Convert the MultiIndex DataFrame to a regular DataFrame\n",
        "# Create a figure and axis\n",
        "fig, ax = plt.subplots()\n",
        "\n",
        "# Plot the data\n",
        "ax.plot(vehicles_non_hybrid['displ'], vehicles_non_hybrid['comb08'], 'o', color='steelblue')\n",
        "\n",
        "# Set axis labels and title\n",
        "ax.set_xlabel('Engine Displacement')\n",
        "ax.set_ylabel('Average MPG')\n",
        "ax.set_title('Gasoline Cars')\n",
        "\n",
        "# Show the plot\n",
        "plt.show()"
      ],
      "metadata": {
        "colab": {
          "base_uri": "https://localhost:8080/",
          "height": 472
        },
        "id": "xXjlMOXAmIs7",
        "outputId": "98d2c29c-d335-4e05-81b8-104aeabb093e"
      },
      "execution_count": 51,
      "outputs": [
        {
          "output_type": "display_data",
          "data": {
            "text/plain": [
              "<Figure size 640x480 with 1 Axes>"
            ],
            "image/png": "[encoded data removed]"
          },
          "metadata": {}
        }
      ]
    },
    {
      "cell_type": "markdown",
      "source": [
        "The preceding plot seems to confirm a negative relationship between fuel economy and engine displacement.\n",
        "Now, have there been fewer cars with large engines made recently?  Let's see whether smaller cars were made in later years on average:"
      ],
      "metadata": {
        "id": "UyAKHbsXmmXi"
      }
    },
    {
      "cell_type": "code",
      "source": [
        "grouped_by_year = vehicles_non_hybrid.groupby(['year'])\n",
        "avg_grouped_by_year = grouped_by_year[['displ','comb08']].agg([np.mean])"
      ],
      "metadata": {
        "id": "ZU1SB5Memlh7"
      },
      "execution_count": 53,
      "outputs": []
    },
    {
      "cell_type": "markdown",
      "source": [
        "Next, let's plot both the average displ value and the average comb08 value by year on the same plot to look for trends. To do this, we need to reshape the avg_ grouped_by_year data frame to convert it from the wide format to the long format:"
      ],
      "metadata": {
        "id": "7Tu8uVdUnAvJ"
      }
    },
    {
      "cell_type": "code",
      "source": [
        "avg_grouped_by_year['year'] = avg_grouped_by_year.index\n",
        "melted_avg_grouped_by_year = pd.melt(avg_grouped_by_year,\n",
        "       id_vars='year')"
      ],
      "metadata": {
        "id": "WtR3exJ0nBeO"
      },
      "execution_count": 54,
      "outputs": []
    },
    {
      "cell_type": "code",
      "source": [
        "\n",
        "# Assuming melted_avg_grouped_by_year is a DataFrame with columns 'year', 'value', and 'variable_0'\n",
        "years = melted_avg_grouped_by_year['year'].unique()\n",
        "variables = melted_avg_grouped_by_year['variable_0'].unique()\n",
        "\n",
        "# Create a figure with subplots for each variable\n",
        "fig, axs = plt.subplots(nrows=1, ncols=len(variables), figsize=(16, 4))\n",
        "\n",
        "# Iterate over each variable and plot the data\n",
        "for i, variable in enumerate(variables):\n",
        "    data = melted_avg_grouped_by_year[melted_avg_grouped_by_year['variable_0'] == variable]\n",
        "    axs[i].plot(data['year'], data['value'], 'o', label=variable)\n",
        "    axs[i].set_xlabel('Year')\n",
        "    axs[i].set_ylabel('Value')\n",
        "    axs[i].set_title(variable)\n",
        "    axs[i].legend()\n",
        "\n",
        "# Adjust the spacing between subplots\n",
        "plt.subplots_adjust(wspace=0.3)\n",
        "\n",
        "# Show the plot\n",
        "plt.show()"
      ],
      "metadata": {
        "colab": {
          "base_uri": "https://localhost:8080/",
          "height": 430
        },
        "id": "ntVaE1eVnIbm",
        "outputId": "980617d8-56fa-4727-e080-e385b90731c8"
      },
      "execution_count": 55,
      "outputs": [
        {
          "output_type": "display_data",
          "data": {
            "text/plain": [
              "<Figure size 1600x400 with 2 Axes>"
            ],
            "image/png": "[encoded data removed]"
          },
          "metadata": {}
        }
      ]
    },
    {
      "cell_type": "markdown",
      "source": [
        "displ (Engine Displacement):\n",
        "\n",
        "The values of engine displacement (displ) seem to be scattered widely, ranging from around 1.0 to 3.6 liters.\n",
        "There appears to be no clear trend or pattern in the engine displacement over the years, suggesting that manufacturers produce vehicles with various engine sizes to cater to different market segments and consumer preferences.\n",
        "\n",
        "\n",
        "comb08 (Combined Fuel Economy):\n",
        "\n",
        "The values of combined fuel economy (comb08) are generally concentrated between 18 and 24 miles per gallon (mpg).\n",
        "There is a noticeable upward trend in combined fuel economy over the years, indicating that vehicles have become more fuel-efficient over time.\n",
        "In recent years (around 2020), there are a few data points showing higher combined fuel economy, likely representing hybrid or electric vehicles with improved fuel efficiency."
      ],
      "metadata": {
        "id": "PleFyyJzn1zJ"
      }
    },
    {
      "cell_type": "markdown",
      "source": [
        "#"
      ],
      "metadata": {
        "id": "BF9jBWOPn2lL"
      }
    }
  ]
}