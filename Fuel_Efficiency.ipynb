{
  "nbformat": 4,
  "nbformat_minor": 0,
  "metadata": {
    "colab": {
      "provenance": [],
      "authorship_tag": "ABX9TyNJ5eswThrcgL7y6CFYrHFn",
      "include_colab_link": true
    },
    "kernelspec": {
      "name": "python3",
      "display_name": "Python 3"
    },
    "language_info": {
      "name": "python"
    }
  },
  "cells": [
    {
      "cell_type": "markdown",
      "metadata": {
        "id": "view-in-github",
        "colab_type": "text"
      },
      "source": [
        "<a href=\"https://colab.research.google.com/github/czek0/Data-Science-Portfolio/blob/main/Fuel_Efficiency.ipynb\" target=\"_parent\"><img src=\"https://colab.research.google.com/assets/colab-badge.svg\" alt=\"Open In Colab\"/></a>"
      ]
    },
    {
      "cell_type": "markdown",
      "source": [
        "# Driving Visual Anaylses with Automobile Data\n",
        "This dataset, available at http://www.fueleconomy. gov/feg/epadata/vehicles.csv.zip, contains fuel efficiency performance metrics over time for all makes and models of automobiles in the United States of America. This dataset also contains numerous other features and attributes of the automobile models other than fuel economy, providing an opportunity to summarize and group the data so that we can identify interesting trends and relationships."
      ],
      "metadata": {
        "id": "taBip8S4d1j8"
      }
    },
    {
      "cell_type": "code",
      "source": [
        "import numpy as np\n"
      ],
      "metadata": {
        "id": "p5gO7-D8d_qR"
      },
      "execution_count": 10,
      "outputs": []
    },
    {
      "cell_type": "code",
      "execution_count": 1,
      "metadata": {
        "colab": {
          "base_uri": "https://localhost:8080/"
        },
        "id": "vjjZVTwNdbe5",
        "outputId": "530473ef-a897-4c07-fd05-bf58a95663f0"
      },
      "outputs": [
        {
          "output_type": "stream",
          "name": "stderr",
          "text": [
            "<ipython-input-1-71ed092dffce>:13: DtypeWarning: Columns (72,74,75,77) have mixed types. Specify dtype option on import or set low_memory=False.\n",
            "  df = pd.read_csv(csv_file)\n"
          ]
        }
      ],
      "source": [
        "import pandas as pd\n",
        "import requests\n",
        "import io\n",
        "import zipfile\n",
        "\n",
        "url = 'http://fueleconomy.gov/feg/epadata/vehicles.csv.zip'\n",
        "r = requests.get(url)\n",
        "zipfile_data = io.BytesIO(r.content)\n",
        "\n",
        "with zipfile.ZipFile(zipfile_data, 'r') as zip_ref:\n",
        "    csv_file = zip_ref.open(zip_ref.namelist()[0])\n",
        "\n",
        "df = pd.read_csv(csv_file)"
      ]
    },
    {
      "cell_type": "code",
      "source": [
        "df.head()\n",
        "df.shape"
      ],
      "metadata": {
        "colab": {
          "base_uri": "https://localhost:8080/"
        },
        "id": "goi4taeKehJ1",
        "outputId": "02261c7e-8efa-4cd9-bc6c-515884ab9272"
      },
      "execution_count": 17,
      "outputs": [
        {
          "output_type": "execute_result",
          "data": {
            "text/plain": [
              "(47523, 84)"
            ]
          },
          "metadata": {},
          "execution_count": 17
        }
      ]
    },
    {
      "cell_type": "markdown",
      "source": [
        "This tells us that columns 22, 23, 70, 71, 72, and 73 contain mixed data types. Let's find the corresponding names using the following commands:"
      ],
      "metadata": {
        "id": "x7_8atzMesDK"
      }
    },
    {
      "cell_type": "code",
      "source": [
        "column_names = df.columns.values\n",
        "column_names[[22, 23, 70, 71, 72, 73]]\n"
      ],
      "metadata": {
        "colab": {
          "base_uri": "https://localhost:8080/"
        },
        "id": "3NoLwHVzenP8",
        "outputId": "0134b50c-803d-4991-e3a1-a165da9286c9"
      },
      "execution_count": 14,
      "outputs": [
        {
          "output_type": "execute_result",
          "data": {
            "text/plain": [
              "array(['cylinders', 'displ', 'atvType', 'fuelType2', 'rangeA', 'evMotor'],\n",
              "      dtype=object)"
            ]
          },
          "metadata": {},
          "execution_count": 14
        }
      ]
    },
    {
      "cell_type": "markdown",
      "source": [],
      "metadata": {
        "id": "Zt7XLiPjfXIc"
      }
    },
    {
      "cell_type": "markdown",
      "source": [
        "##Preliminary analysis"
      ],
      "metadata": {
        "id": "wEH1qMU-fon1"
      }
    },
    {
      "cell_type": "code",
      "source": [
        "print(\"length: \",len(df))\n",
        "print(\"collumns: \", len(df.columns))\n",
        "print(df.columns)"
      ],
      "metadata": {
        "colab": {
          "base_uri": "https://localhost:8080/"
        },
        "id": "odh1Z9TdfrW7",
        "outputId": "468391cf-b99c-44b9-b3d3-84215794be2f"
      },
      "execution_count": 23,
      "outputs": [
        {
          "output_type": "stream",
          "name": "stdout",
          "text": [
            "length:  47523\n",
            "collumns:  84\n",
            "Index(['barrels08', 'barrelsA08', 'charge120', 'charge240', 'city08',\n",
            "       'city08U', 'cityA08', 'cityA08U', 'cityCD', 'cityE', 'cityUF', 'co2',\n",
            "       'co2A', 'co2TailpipeAGpm', 'co2TailpipeGpm', 'comb08', 'comb08U',\n",
            "       'combA08', 'combA08U', 'combE', 'combinedCD', 'combinedUF', 'cylinders',\n",
            "       'displ', 'drive', 'engId', 'eng_dscr', 'feScore', 'fuelCost08',\n",
            "       'fuelCostA08', 'fuelType', 'fuelType1', 'ghgScore', 'ghgScoreA',\n",
            "       'highway08', 'highway08U', 'highwayA08', 'highwayA08U', 'highwayCD',\n",
            "       'highwayE', 'highwayUF', 'hlv', 'hpv', 'id', 'lv2', 'lv4', 'make',\n",
            "       'model', 'mpgData', 'phevBlended', 'pv2', 'pv4', 'range', 'rangeCity',\n",
            "       'rangeCityA', 'rangeHwy', 'rangeHwyA', 'trany', 'UCity', 'UCityA',\n",
            "       'UHighway', 'UHighwayA', 'VClass', 'year', 'youSaveSpend', 'baseModel',\n",
            "       'guzzler', 'trans_dscr', 'tCharger', 'sCharger', 'atvType', 'fuelType2',\n",
            "       'rangeA', 'evMotor', 'mfrCode', 'c240Dscr', 'charge240b', 'c240bDscr',\n",
            "       'createdOn', 'modifiedOn', 'startStop', 'phevCity', 'phevHwy',\n",
            "       'phevComb'],\n",
            "      dtype='object')\n"
          ]
        }
      ]
    },
    {
      "cell_type": "markdown",
      "source": [
        "Let's find out how many unique years of data are included in this dataset and what the first and last years are using the following command:"
      ],
      "metadata": {
        "id": "Ma7f5cw8gBYH"
      }
    },
    {
      "cell_type": "code",
      "source": [
        "print(\"Unique years data: \", pd.unique(df.year))\n",
        "print(\"Min year: \", min(df.year))\n",
        "print(\"Max year: \", max(df.year))\n"
      ],
      "metadata": {
        "colab": {
          "base_uri": "https://localhost:8080/"
        },
        "id": "WLMw0oyEfs4O",
        "outputId": "6f98dfa5-2cf1-413a-dd69-d166bb8df6c0"
      },
      "execution_count": 24,
      "outputs": [
        {
          "output_type": "stream",
          "name": "stdout",
          "text": [
            "Unique years data:  [1985 1993 1994 1995 1996 1997 1998 1999 2000 2001 1986 2002 2003 2004\n",
            " 2005 2006 2007 2008 2009 2010 1984 1987 1988 1989 1990 1991 1992 2011\n",
            " 2012 2013 2014 2015 2016 2017 2018 2019 2020 2021 2022 2023 2024 2025]\n",
            "Min year:  1984\n",
            "Max year:  2025\n"
          ]
        }
      ]
    },
    {
      "cell_type": "markdown",
      "source": [
        "Let's find out what types of fuel are used as the automobiles' primary fuel types."
      ],
      "metadata": {
        "id": "nvMf2Yg7gTkr"
      }
    },
    {
      "cell_type": "code",
      "source": [
        "print(\"Types of fuel\", pd.value_counts(df.fuelType1))"
      ],
      "metadata": {
        "colab": {
          "base_uri": "https://localhost:8080/"
        },
        "id": "tD94vzlzgW7K",
        "outputId": "24690197-9d3a-489b-cad5-1ad1eb1b6088"
      },
      "execution_count": 25,
      "outputs": [
        {
          "output_type": "stream",
          "name": "stdout",
          "text": [
            "Types of fuel fuelType1\n",
            "Regular Gasoline     30426\n",
            "Premium Gasoline     14801\n",
            "Diesel                1274\n",
            "Electricity            766\n",
            "Midgrade Gasoline      164\n",
            "Natural Gas             60\n",
            "Hydrogen                32\n",
            "Name: count, dtype: int64\n"
          ]
        }
      ]
    },
    {
      "cell_type": "markdown",
      "source": [
        "Now if we want to explore what types of transmissions these automobiles have, we immediately try the following command:"
      ],
      "metadata": {
        "id": "-eDgSryrgjOH"
      }
    },
    {
      "cell_type": "code",
      "source": [
        "print(\"Types of transmissions:\", pd.value_counts(df.trany))"
      ],
      "metadata": {
        "colab": {
          "base_uri": "https://localhost:8080/"
        },
        "id": "CcnpN1upglAt",
        "outputId": "ceb3af26-8a4d-43ab-feb7-f48b60d2bc22"
      },
      "execution_count": 26,
      "outputs": [
        {
          "output_type": "stream",
          "name": "stdout",
          "text": [
            "Types of transmissions: trany\n",
            "Automatic 4-spd                     11048\n",
            "Manual 5-spd                         8391\n",
            "Automatic (S6)                       3337\n",
            "Automatic (S8)                       3157\n",
            "Automatic 3-spd                      3151\n",
            "Manual 6-spd                         3079\n",
            "Automatic 5-spd                      2203\n",
            "Automatic 6-spd                      1752\n",
            "Manual 4-spd                         1483\n",
            "Automatic (variable gear ratios)     1104\n",
            "Automatic 8-spd                       978\n",
            "Automatic (S5)                        848\n",
            "Automatic (AM-S7)                     763\n",
            "Automatic 9-spd                       745\n",
            "Automatic (A1)                        730\n",
            "Automatic 7-spd                       720\n",
            "Automatic (S10)                       588\n",
            "Automatic (S7)                        386\n",
            "Automatic 10-spd                      380\n",
            "Automatic (AV-S6)                     324\n",
            "Automatic (AM7)                       318\n",
            "Automatic (AM-S8)                     285\n",
            "Automatic (S9)                        250\n",
            "Automatic (S4)                        233\n",
            "Automatic (AV-S7)                     214\n",
            "Automatic (AM-S6)                     191\n",
            "Automatic (AV-S8)                     183\n",
            "Manual 7-spd                          176\n",
            "Automatic (AM6)                       160\n",
            "Manual 3-spd                           77\n",
            "Automatic (AM8)                        69\n",
            "Automatic (A2)                         64\n",
            "Automatic (AV-S10)                     53\n",
            "Automatic (AV-S1)                      29\n",
            "Manual 4-spd Doubled                   17\n",
            "Automatic (AM5)                        14\n",
            "Automatic (AM-S9)                       6\n",
            "Automatic (L3)                          2\n",
            "Automatic (L4)                          2\n",
            "Automatic (AM-S10)                      2\n",
            "Name: count, dtype: int64\n"
          ]
        }
      ]
    },
    {
      "cell_type": "markdown",
      "source": [
        "What we really want to know is the number of cars with automatic and manual transmissions. We notice that the trany variable always starts with the letter A when it represents an automatic transmission and M for manual transmission. Thus, we create a new variable, trany2, that contains the first character of the trany variable, which is a string:\n"
      ],
      "metadata": {
        "id": "2rNyWYxigvlD"
      }
    },
    {
      "cell_type": "code",
      "source": [
        "df[\"trany2\"] = df.trany.str[0]\n",
        "print(\"New Types of Transmissions: \", pd.value_counts(df.trany2))"
      ],
      "metadata": {
        "colab": {
          "base_uri": "https://localhost:8080/"
        },
        "id": "7Z_4nKVzgy02",
        "outputId": "ab72ef93-137d-43b2-edc9-cc13b20d6557"
      },
      "execution_count": 27,
      "outputs": [
        {
          "output_type": "stream",
          "name": "stdout",
          "text": [
            "New Types of Transmissions:  trany2\n",
            "A    34289\n",
            "M    13223\n",
            "Name: count, dtype: int64\n"
          ]
        }
      ]
    }
  ]
}